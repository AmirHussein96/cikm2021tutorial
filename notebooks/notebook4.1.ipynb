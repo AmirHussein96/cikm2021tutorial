{
 "cells": [
  {
   "cell_type": "markdown",
   "metadata": {},
   "source": [
    "# PyTerrier CIKM 2021 Tutorial Notebook - Part 4.1 - DeepImpact\n",
    "\n",
    "This notebook provides experiences to attendees for building transformer pipelines in [PyTerrier](https://github.com/terrier-org/pyterrier). \n",
    "\n",
    "This notebook aims to demonstrate use of the [DeepImpact learned sparse retrieval](https://github.com/DI4IR/SIGIR2021) for end-to-end indexing and retrieval in PyTerrier, as provided by the [*Pyterrier DeepImpact*](https://github.com/terrierteam/pyterrier_deepimpact) plugin.\n",
    "\n",
    "In this notebook, you will experience indexing and retrieval using pyterrier_deepimpact.\n",
    "\n",
    "NB: DeepImpact is time-consuming. For this reason, we are not able to demonstate ColBERT on corpora larger than Vaswani (11k abstracts) within time constraints for the tutorial. Please refer to [this example](https://github.com/terrierteam/pyterrier_deepimpact/blob/main/cord19_example.py) for an experiment conducted using the [CORD19 corpus](https://www.ncbi.nlm.nih.gov/pmc/articles/PMC7251955/)."
   ]
  },
  {
   "cell_type": "markdown",
   "metadata": {},
   "source": [
    "## Setup\n",
    "\n",
    "In the following, we will set up the libraries required to execute the notebook."
   ]
  },
  {
   "cell_type": "code",
   "execution_count": null,
   "metadata": {},
   "outputs": [],
   "source": [
    "# Fixing a temporary visualisation problem on Google Colab\n",
    "!pip uninstall -y  pandas\n",
    "!pip install pandas"
   ]
  },
  {
   "cell_type": "markdown",
   "metadata": {},
   "source": [
    "Installing the required packages, i.e., PyTerrier and its DeepImpact plugin."
   ]
  },
  {
   "cell_type": "code",
   "execution_count": null,
   "metadata": {},
   "outputs": [],
   "source": [
    "!pip install --upgrade git+https://github.com/terrier-org/pyterrier.git#egg=python-terrier\n",
    "!pip install --upgrade git+https://github.com/terrierteam/pyterrier_deepimpact.git"
   ]
  },
  {
   "cell_type": "markdown",
   "metadata": {},
   "source": [
    "## [PyTerrier](https://github.com/terrier-org/pyterrier) initialization\n",
    "\n",
    "Lets get [PyTerrier](https://github.com/terrier-org/pyterrier) started. This will download the latest version of the [Terrier](http://terrier.org) IR platform."
   ]
  },
  {
   "cell_type": "code",
   "execution_count": null,
   "metadata": {},
   "outputs": [],
   "source": [
    "import pyterrier as pt\n",
    "pt.init()"
   ]
  },
  {
   "cell_type": "markdown",
   "metadata": {},
   "source": [
    "Importing the DeepImpact custom PyTerrier's indexer."
   ]
  },
  {
   "cell_type": "code",
   "execution_count": null,
   "metadata": {},
   "outputs": [],
   "source": [
    "from pyt_deepimpact import DeepImpactIndexer"
   ]
  },
  {
   "cell_type": "markdown",
   "metadata": {},
   "source": [
    "## [DeepImpact](http://terrier.org) inverted indexing\n",
    "\n",
    "We (automatically) download a pre-trained version of the DeepImpact model, and we use it to generate a [Terrier](http://terrier.org) inverted index for the Vaswani collection. Note that the pre-trained DeepImpact model requires no stemming and no stopword removal."
   ]
  },
  {
   "cell_type": "code",
   "execution_count": null,
   "metadata": {},
   "outputs": [],
   "source": [
    "vaswani = pt.get_dataset(\"vaswani\")\n",
    "\n",
    "pt_index_path = './terrier_di_vaswani'\n",
    "\n",
    "parent = pt.index.IterDictIndexer(pt_index_path)\n",
    "parent.setProperty(\"termpipelines\", \"\")\n",
    "indexer = DeepImpactIndexer(parent, batch_size=32)\n",
    "indexer.index(vaswani.get_corpus_iter())\n",
    "\n",
    "index_ref = pt.IndexRef.of(pt_index_path + \"/data.properties\")\n",
    "index_di = pt.IndexFactory.of(index_ref)\n"
   ]
  },
  {
   "cell_type": "markdown",
   "metadata": {},
   "source": [
    "## [Terrier](http://terrier.org) inverted indexing\n",
    "\n",
    "We built a regular [Terrier](http://terrier.org) inverted index for the Vaswani collection. To be consistent with the DeepImpact index generated previously, we disable stemming and stopword removal."
   ]
  },
  {
   "cell_type": "code",
   "execution_count": null,
   "metadata": {},
   "outputs": [],
   "source": [
    "pt_index_path = './terrier_vaswani'\n",
    "\n",
    "indexer = pt.index.IterDictIndexer(pt_index_path)\n",
    "indexer.setProperty(\"termpipelines\", \"\")\n",
    "index_ref = indexer.index(vaswani.get_corpus_iter())\n",
    "\n",
    "index_ref = pt.IndexRef.of(pt_index_path + \"/data.properties\")\n",
    "index = pt.IndexFactory.of(index_ref)"
   ]
  },
  {
   "cell_type": "markdown",
   "metadata": {},
   "source": [
    "# Retrieval experiments\n",
    "\n",
    "Now that indexing completed, we can prepare an experiment. We are going to retrieve the top 10 ranked documents for the official Vaswani topics, and compute several effectiveness metrics. "
   ]
  },
  {
   "cell_type": "code",
   "execution_count": null,
   "metadata": {},
   "outputs": [],
   "source": [
    "pt.Experiment([\n",
    "        pt.BatchRetrieve(index, wmodel=\"BM25\"),\n",
    "        pt.BatchRetrieve(index_di, wmodel=\"Tf\")\n",
    "    ],\n",
    "    vaswani.get_topics(), vaswani.get_qrels(),\n",
    "    names=['bm25', \"deep_impact\"],\n",
    "    eval_metrics=[\"map\", \"recip_rank\", \"ndcg_cut_10\"]\n",
    ")"
   ]
  },
  {
   "attachments": {},
   "cell_type": "markdown",
   "metadata": {},
   "source": [
    "#  That's all folks\n",
    "\n",
    "Once you have finished all of the Part 4 notebooks, please dont forget to complete our exit quiz: https://forms.office.com/r/RiYSAxAKhk!"
   ]
  },
  {
   "cell_type": "code",
   "execution_count": null,
   "metadata": {},
   "outputs": [],
   "source": []
  }
 ],
 "metadata": {
  "interpreter": {
   "hash": "db708dc8ec392b910b0fff059ab566a567d8a674b83895f06ae4b845308bf57b"
  },
  "kernelspec": {
   "display_name": "Python 3",
   "language": "python",
   "name": "python3"
  },
  "language_info": {
   "codemirror_mode": {
    "name": "ipython",
    "version": 3
   },
   "file_extension": ".py",
   "mimetype": "text/x-python",
   "name": "python",
   "nbconvert_exporter": "python",
   "pygments_lexer": "ipython3",
   "version": "3.8.8"
  }
 },
 "nbformat": 4,
 "nbformat_minor": 2
}
