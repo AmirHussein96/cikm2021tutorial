{
 "cells": [
  {
   "cell_type": "markdown",
   "metadata": {
    "id": "QrUxwIIBVmzN"
   },
   "source": [
    "# PyTerrier CIKM 2021 Tutorial Notebook - Part 4.2 - ANCE\n",
    "\n",
    "This notebook provides experiences to attendees in dense indexing and retrieval in [PyTerrier](https://github.com/terrier-org/pyterrier). All experiments are conducted using the [CORD19 corpus](https://www.ncbi.nlm.nih.gov/pmc/articles/PMC7251955/) and the [TREC Covid test collection](https://ir.nist.gov/covidSubmit/).\n",
    "\n",
    "This notebook aims to demonstrate use of the [ANCE dense retrieval](https://github.com/microsoft/ANCE) for end-to-end indexing and retrieval in PyTerrier, as provided by the [*PyTerrier ANCE*](https://github.com/terrierteam/pyterrier_ance) plugin.\n",
    "\n",
    "In this notebook, you will experience:\n",
    " - indexing and retrieval using [*PyTerrier ANCE*](https://github.com/terrierteam/pyterrier_ance).\n",
    " - doing a failure analysis comparing ANCE with BM25 results.\n",
    "\n"
   ]
  },
  {
   "cell_type": "markdown",
   "metadata": {
    "id": "FzAmEAgzGFEE"
   },
   "source": [
    "# Setup\n",
    "\n",
    "In the following, we will set up the libraries required to execute the notebook."
   ]
  },
  {
   "cell_type": "markdown",
   "metadata": {
    "id": "ZABQMWK54-S4"
   },
   "source": [
    "## Python packages installation\n",
    "\n",
    "The following packages are installed to avoid warnings/errors during [PyTerrier](https://github.com/terrier-org/pyterrier) installation. Note that the current release of the [PyTerrier](https://github.com/terrier-org/pyterrier) [ANCE](https://github.com/microsoft/ANCE) plugin works only with the following Python packages:\n",
    "\n",
    "* `faiss-cpu` or `faiss-gpu`, version 1.6.3\n",
    "\n",
    "> You can safely ignore the message about runtime restart."
   ]
  },
  {
   "cell_type": "code",
   "execution_count": null,
   "metadata": {
    "colab": {
     "base_uri": "https://localhost:8080/"
    },
    "collapsed": true,
    "executionInfo": {
     "elapsed": 27618,
     "status": "ok",
     "timestamp": 1616665183703,
     "user": {
      "displayName": "Nicola Tonellotto",
      "photoUrl": "https://lh3.googleusercontent.com/a-/AOh14Gga8BaxLsPFWvzzBzSximki7T2Jsnf0EEARTd_h=s64",
      "userId": "17533833776178224794"
     },
     "user_tz": -60
    },
    "id": "poO9tDxI4Nr_",
    "outputId": "b3cfa495-7c6d-4992-dfec-2ae0a75341a8"
   },
   "outputs": [],
   "source": [
    "!apt install --upgrade libomp-dev\n",
    "!pip install --upgrade faiss-gpu==1.6.3"
   ]
  },
  {
   "cell_type": "markdown",
   "metadata": {
    "id": "QPc6ygBxhL4H"
   },
   "source": [
    "## Pyterrier installation\n",
    "\n",
    "The following cell installs the latest release of the [PyTerrier](https://github.com/terrier-org/pyterrier) package."
   ]
  },
  {
   "cell_type": "code",
   "execution_count": null,
   "metadata": {
    "colab": {
     "base_uri": "https://localhost:8080/"
    },
    "executionInfo": {
     "elapsed": 26560,
     "status": "ok",
     "timestamp": 1616665234706,
     "user": {
      "displayName": "Nicola Tonellotto",
      "photoUrl": "https://lh3.googleusercontent.com/a-/AOh14Gga8BaxLsPFWvzzBzSximki7T2Jsnf0EEARTd_h=s64",
      "userId": "17533833776178224794"
     },
     "user_tz": -60
    },
    "id": "rGqaCMa2ggp-",
    "outputId": "a6da947f-ec80-41a7-b658-eb0c743b4184"
   },
   "outputs": [],
   "source": [
    "!pip install python-terrier"
   ]
  },
  {
   "cell_type": "markdown",
   "metadata": {
    "id": "2Yl1plJjpws7"
   },
   "source": [
    "## Pyterrier plugins installation\n",
    "\n",
    "We install the official version of the [*PyTerrier ANCE*](https://github.com/terrierteam/pyterrier_ance) plugin. You can safely ignore the package versioning errors."
   ]
  },
  {
   "cell_type": "code",
   "execution_count": null,
   "metadata": {
    "colab": {
     "base_uri": "https://localhost:8080/"
    },
    "collapsed": true,
    "executionInfo": {
     "elapsed": 11512,
     "status": "ok",
     "timestamp": 1616665291202,
     "user": {
      "displayName": "Nicola Tonellotto",
      "photoUrl": "https://lh3.googleusercontent.com/a-/AOh14Gga8BaxLsPFWvzzBzSximki7T2Jsnf0EEARTd_h=s64",
      "userId": "17533833776178224794"
     },
     "user_tz": -60
    },
    "id": "lFQSFHpA3tss",
    "outputId": "deb46c9c-7027-4c87-a269-dc018cf8348a"
   },
   "outputs": [],
   "source": [
    "!pip install --upgrade git+https://github.com/terrierteam/pyterrier_ance.git"
   ]
  },
  {
   "cell_type": "markdown",
   "metadata": {
    "id": "kJrUg4ErrZbQ"
   },
   "source": [
    "## Trained model download\n",
    "\n",
    "This downloads the [ANCE](https://github.com/microsoft/ANCE) model checkpoint. We use a University of Glasgow mirror site that results in fasters times than the original ANCE location. Download time can vary - usually about 2 minutes in our experience."
   ]
  },
  {
   "cell_type": "code",
   "execution_count": null,
   "metadata": {
    "colab": {
     "base_uri": "https://localhost:8080/"
    },
    "executionInfo": {
     "elapsed": 74520,
     "status": "ok",
     "timestamp": 1616665487961,
     "user": {
      "displayName": "Nicola Tonellotto",
      "photoUrl": "https://lh3.googleusercontent.com/a-/AOh14Gga8BaxLsPFWvzzBzSximki7T2Jsnf0EEARTd_h=s64",
      "userId": "17533833776178224794"
     },
     "user_tz": -60
    },
    "id": "yDPZmiF78-MU",
    "outputId": "45c59717-2c97-4f4e-a211-226018de18a8"
   },
   "outputs": [],
   "source": [
    "import os\n",
    "if not os.path.exists(\"ance_model_checkpoint.zip\"):\n",
    "    !wget http://www.dcs.gla.ac.uk/~craigm/ecir2021-tutorial/ance_model_checkpoint.zip\n",
    "    !unzip -j ance_model_checkpoint.zip -d ance_model_checkpoint"
   ]
  },
  {
   "cell_type": "markdown",
   "metadata": {
    "id": "1eBlpENBlTXA"
   },
   "source": [
    "# Preliminary steps"
   ]
  },
  {
   "cell_type": "markdown",
   "metadata": {
    "id": "nNo5g83BrQjT"
   },
   "source": [
    "## [PyTerrier](https://github.com/terrier-org/pyterrier) initialization\n",
    "\n",
    "Lets get [PyTerrier](https://github.com/terrier-org/pyterrier) started. This will download the latest version of the [Terrier](http://terrier.org) IR platform."
   ]
  },
  {
   "cell_type": "code",
   "execution_count": null,
   "metadata": {
    "colab": {
     "base_uri": "https://localhost:8080/"
    },
    "executionInfo": {
     "elapsed": 5872,
     "status": "ok",
     "timestamp": 1616665500888,
     "user": {
      "displayName": "Nicola Tonellotto",
      "photoUrl": "https://lh3.googleusercontent.com/a-/AOh14Gga8BaxLsPFWvzzBzSximki7T2Jsnf0EEARTd_h=s64",
      "userId": "17533833776178224794"
     },
     "user_tz": -60
    },
    "id": "VbHA4J017DB3",
    "outputId": "1f245948-e2f2-47b9-92d0-62559de93bf3"
   },
   "outputs": [],
   "source": [
    "import pyterrier as pt\n",
    "\n",
    "if not pt.started():\n",
    "    pt.init()"
   ]
  },
  {
   "cell_type": "markdown",
   "metadata": {
    "id": "jW-yxSj0loy-"
   },
   "source": [
    "## [TREC-COVID19](https://ir.nist.gov/covidSubmit/) Dataset download\n",
    "\n",
    "The following cell downloads the [TREC-COVID19](https://ir.nist.gov/covidSubmit/) dataset that we will use in the remainder of this notebook."
   ]
  },
  {
   "cell_type": "code",
   "execution_count": null,
   "metadata": {
    "colab": {
     "base_uri": "https://localhost:8080/"
    },
    "executionInfo": {
     "elapsed": 1879,
     "status": "ok",
     "timestamp": 1616665507618,
     "user": {
      "displayName": "Nicola Tonellotto",
      "photoUrl": "https://lh3.googleusercontent.com/a-/AOh14Gga8BaxLsPFWvzzBzSximki7T2Jsnf0EEARTd_h=s64",
      "userId": "17533833776178224794"
     },
     "user_tz": -60
    },
    "id": "i1MtodQBlofw",
    "outputId": "735fdcbc-05e7-4dc4-d5f7-4da54fdcfde0"
   },
   "outputs": [],
   "source": [
    "dataset = pt.datasets.get_dataset('irds:cord19/trec-covid')\n",
    "topics = dataset.get_topics(variant='title')\n",
    "qrels = dataset.get_qrels()"
   ]
  },
  {
   "cell_type": "markdown",
   "metadata": {
    "id": "fu2XhNRQEEs2"
   },
   "source": [
    "## [Terrier](http://terrier.org) inverted index download\n",
    "\n",
    "To save a few minutes, we use a pre-built [Terrier](http://terrier.org) inverted index for the [TREC-COVID19](https://ir.nist.gov/covidSubmit/) collection.\n",
    "Download time took a few seconds for us.\n",
    "\n",
    "The construction of the inverted index will take few minutes, and the code to use is the following:\n",
    "\n",
    "```python\n",
    "import os\n",
    "\n",
    "cord19 = pt.datasets.get_dataset('irds:cord19/trec-covid')\n",
    "pt_index_path = './terrier_cord19'\n",
    "\n",
    "if not os.path.exists(pt_index_path + \"/data.properties\"):\n",
    "    # create the index, using the IterDictIndexer indexer \n",
    "    indexer = pt.index.IterDictIndexer(pt_index_path)\n",
    "\n",
    "    # we give the dataset get_corpus_iter() directly to the indexer\n",
    "    # while specifying the fields to index and the metadata to record\n",
    "    index_ref = indexer.index(cord19.get_corpus_iter(), \n",
    "                              fields=('abstract',), \n",
    "                              meta=('docno',))\n",
    "\n",
    "else:\n",
    "    # if you already have the index, use it.\n",
    "    index_ref = pt.IndexRef.of(pt_index_path + \"/data.properties\")\n",
    "\n",
    "index = pt.IndexFactory.of(index_ref)\n",
    "```"
   ]
  },
  {
   "cell_type": "code",
   "execution_count": null,
   "metadata": {
    "colab": {
     "base_uri": "https://localhost:8080/"
    },
    "executionInfo": {
     "elapsed": 5344,
     "status": "ok",
     "timestamp": 1616665518230,
     "user": {
      "displayName": "Nicola Tonellotto",
      "photoUrl": "https://lh3.googleusercontent.com/a-/AOh14Gga8BaxLsPFWvzzBzSximki7T2Jsnf0EEARTd_h=s64",
      "userId": "17533833776178224794"
     },
     "user_tz": -60
    },
    "id": "yklzIrBYmJef",
    "outputId": "b044cad1-0288-4307-fb10-6877c4d9b700"
   },
   "outputs": [],
   "source": [
    "import os\n",
    "\n",
    "if not os.path.exists(\"terrier_index.zip\"):\n",
    "  !wget http://www.dcs.gla.ac.uk/~craigm/ecir2021-tutorial/terrier_index.zip\n",
    "  !unzip -j terrier_index.zip -d terrier_index\n",
    "\n",
    "index_ref = pt.IndexRef.of(\"./terrier_index/data.properties\")\n",
    "index = pt.IndexFactory.of(index_ref)"
   ]
  },
  {
   "cell_type": "markdown",
   "metadata": {
    "id": "5vpOdvbyn9Yt"
   },
   "source": [
    "## [ANCE](https://github.com/microsoft/ANCE) dense index download\n",
    "\n",
    "We are going to download a pre-built [ANCE](https://github.com/microsoft/ANCE) [FAISS](https://github.com/facebookresearch/faiss) index for the [TREC-COVID19](https://ir.nist.gov/covidSubmit/) collection. Download time took <1 minute for us.\n",
    "\n",
    "The construction of this index takes some time. If you wanted to create the index yourself, the code to use is as follows:\n",
    "\n",
    "```python\n",
    "!rm -rf /content/anceindex\n",
    "\n",
    "import pyterrier_ance\n",
    "\n",
    "ance_indexer = pyterrier_ance.ANCEIndexer(\n",
    "    checkpoint_path=\"./ance_model_checkpoint\",\n",
    "    index_path=\"/content/anceindex\",\n",
    "    num_docs=192509,\n",
    "    text_attr='abstract' # COVID\n",
    ")\n",
    "\n",
    "ance_indexer.index(dataset.get_corpus_iter())\n",
    "```"
   ]
  },
  {
   "cell_type": "code",
   "execution_count": null,
   "metadata": {
    "colab": {
     "base_uri": "https://localhost:8080/"
    },
    "executionInfo": {
     "elapsed": 25105,
     "status": "ok",
     "timestamp": 1616665549564,
     "user": {
      "displayName": "Nicola Tonellotto",
      "photoUrl": "https://lh3.googleusercontent.com/a-/AOh14Gga8BaxLsPFWvzzBzSximki7T2Jsnf0EEARTd_h=s64",
      "userId": "17533833776178224794"
     },
     "user_tz": -60
    },
    "id": "w1qUz-V5okzQ",
    "outputId": "01f8ad6b-b462-417b-c2ce-f17b1a0e9ec3"
   },
   "outputs": [],
   "source": [
    "import os\n",
    "\n",
    "if not os.path.exists(\"ance_index.zip\"):\n",
    "  !wget http://www.dcs.gla.ac.uk/~craigm/ecir2021-tutorial/ance_index.zip\n",
    "  !unzip -j ance_index.zip -d ance_index"
   ]
  },
  {
   "cell_type": "markdown",
   "metadata": {
    "id": "hUUD9ph30eu2"
   },
   "source": [
    "Lets give a look at the files downloaded."
   ]
  },
  {
   "cell_type": "code",
   "execution_count": null,
   "metadata": {
    "colab": {
     "base_uri": "https://localhost:8080/"
    },
    "executionInfo": {
     "elapsed": 738,
     "status": "ok",
     "timestamp": 1616666313231,
     "user": {
      "displayName": "Nicola Tonellotto",
      "photoUrl": "https://lh3.googleusercontent.com/a-/AOh14Gga8BaxLsPFWvzzBzSximki7T2Jsnf0EEARTd_h=s64",
      "userId": "17533833776178224794"
     },
     "user_tz": -60
    },
    "id": "yEbVY8XJ0edq",
    "outputId": "d99f9b0a-2ac7-46b3-ec33-c5949d0445cc"
   },
   "outputs": [],
   "source": [
    "!ls -lh /content/ance_index/"
   ]
  },
  {
   "cell_type": "markdown",
   "metadata": {
    "id": "F0os3PrCWAOh"
   },
   "source": [
    "So we have a few files that have been generated. In particular, an ANCE index is broken into shards - CORD19 is small enough to only need a single chunk, so we have only `0.*` and no `1.*` etc.\n",
    "\n",
    "ANCE index contains 3 files:\n",
    " - `shards.pkl` - how many documents in each shard;\n",
    " - $x$ `.docids.pkl` - docid to docno mapping for documents in each shard;\n",
    "\n",
    " - $x$ `.faiss` - the FAISS index for the documents in each shard.\n"
   ]
  },
  {
   "cell_type": "markdown",
   "metadata": {
    "id": "CNSVITVYvf37"
   },
   "source": [
    "# Retrieval experiments\n",
    "\n",
    "Now that indexing/downloading has completed, we can load in the index and the learned model (which we will need for encoding queries). Index loading can take some time, as the [FAISS](https://github.com/facebookresearch/faiss) index needs to be loaded in main memory, as well as the docno lookup file.\n",
    "\n",
    "Lets prepare an experiment. Firstly, lets create in a BM25 baseline transformer, and the [ANCE](https://github.com/microsoft/ANCE) retrieve transformer."
   ]
  },
  {
   "cell_type": "code",
   "execution_count": null,
   "metadata": {
    "colab": {
     "base_uri": "https://localhost:8080/",
     "height": 1000,
     "referenced_widgets": [
      "a726ad4ac0394d548b20f7933f638073",
      "fe9979c964f44b7ba4bf0da2476c3c14",
      "b30a90f31f5940aaaad9a6b39ade7945",
      "500ce510cc1d4589989f1e8e561db373",
      "0d9f34a76fcf4631939cbb1ee9277883",
      "a4f19316dcf94ab9ab3cf8046a822e35",
      "c4934f2b61a443ca9c8f6e9c97c184b8",
      "1a116ff705554546b1038c6b2d70c571"
     ]
    },
    "executionInfo": {
     "elapsed": 24333,
     "status": "ok",
     "timestamp": 1616665676828,
     "user": {
      "displayName": "Nicola Tonellotto",
      "photoUrl": "https://lh3.googleusercontent.com/a-/AOh14Gga8BaxLsPFWvzzBzSximki7T2Jsnf0EEARTd_h=s64",
      "userId": "17533833776178224794"
     },
     "user_tz": -60
    },
    "id": "lp5-3rel99xN",
    "outputId": "a027f7a7-7623-43e2-93de-c50f5621ab1d"
   },
   "outputs": [],
   "source": [
    "bm25_retriever = pt.BatchRetrieve(index, wmodel=\"BM25\")\n",
    "\n",
    "import pyterrier_ance\n",
    "\n",
    "ance_retriever = pyterrier_ance.ANCERetrieval(\n",
    "    checkpoint_path=\"/content/ance_model_checkpoint\",\n",
    "    index_path=\"/content/ance_index\"\n",
    ")"
   ]
  },
  {
   "cell_type": "markdown",
   "metadata": {
    "id": "Iuua3AVqAX83"
   },
   "source": [
    "Now we are ready to run the experiments. We are going to retrieve the top 10 ranked documents for the official topics, and compute several effectiveness metrics. "
   ]
  },
  {
   "cell_type": "code",
   "execution_count": null,
   "metadata": {
    "colab": {
     "base_uri": "https://localhost:8080/",
     "height": 296,
     "referenced_widgets": [
      "681a6907bd3140c48b032f1e0bba128f",
      "7a54db241dcd431d9a3a7a9fd4c74550",
      "4ac0709e17094f12b673605235c37b6d",
      "f55a1828bbc540d39aff323002180faa",
      "df9463847de94552b343b0dba13895bd",
      "59e45a5a034b47c491195ca87d85bc00",
      "d875c04a4a654169a98dcf505f03b0d6",
      "99ba0180abf94931bee30b2fd254ab45"
     ]
    },
    "executionInfo": {
     "elapsed": 5787,
     "status": "ok",
     "timestamp": 1616665706977,
     "user": {
      "displayName": "Nicola Tonellotto",
      "photoUrl": "https://lh3.googleusercontent.com/a-/AOh14Gga8BaxLsPFWvzzBzSximki7T2Jsnf0EEARTd_h=s64",
      "userId": "17533833776178224794"
     },
     "user_tz": -60
    },
    "id": "9RzCnTeWatkF",
    "outputId": "5b663740-9ac1-4603-d468-2db313d80954"
   },
   "outputs": [],
   "source": [
    "pt.Experiment(\n",
    "    [bm25_retriever % 10, ance_retriever % 10], \n",
    "    topics,\n",
    "    qrels,\n",
    "    eval_metrics=[\"map\", \"recip_rank\", \"P_10\", \"ndcg_cut_10\", \"mrt\"],\n",
    "    names=['BM25', 'ANCE'],\n",
    ")"
   ]
  },
  {
   "cell_type": "markdown",
   "metadata": {
    "id": "FArBa-2wQIUj"
   },
   "source": [
    "## ANCE failure analysis\n",
    "\n",
    "Lets give a look at the results for BM25 and ANCE for query with qid \"`1`\". To achieve this, lets make a function that displays the results, including the DOI URL."
   ]
  },
  {
   "cell_type": "code",
   "execution_count": null,
   "metadata": {
    "id": "cDPkSTyba8wr"
   },
   "outputs": [],
   "source": [
    "def show_res_with_text_labels(system, qid):\n",
    "    def make_doi_url(df):\n",
    "      df[\"doi\"] = df[\"doi\"].apply(lambda doi: \"https://doi.org/\" + doi)\n",
    "      return df\n",
    "    pipe = (system % 10) >> pt.text.get_text(dataset, [\"title\", \"doi\"]) >> pt.apply.generic(make_doi_url)\n",
    "    res = pipe.transform(topics[topics.qid == qid])\n",
    "    res = res.merge(qrels, how='left')\n",
    "    def make_clickable(val):\n",
    "        # target _blank to open new window\n",
    "        return '<a target=\"_blank\" href=\"{}\">{}</a>'.format(val, val)\n",
    "    res = res.sort_values(\"rank\", ascending=True)\n",
    "    res.style.format({'doi': make_clickable})\n",
    "    return res\n",
    "  \n",
    "import pandas as pd\n",
    "pd.set_option(\"max_colwidth\", 102)"
   ]
  },
  {
   "cell_type": "code",
   "execution_count": null,
   "metadata": {
    "colab": {
     "base_uri": "https://localhost:8080/",
     "height": 478
    },
    "executionInfo": {
     "elapsed": 23483,
     "status": "ok",
     "timestamp": 1616665796865,
     "user": {
      "displayName": "Nicola Tonellotto",
      "photoUrl": "https://lh3.googleusercontent.com/a-/AOh14Gga8BaxLsPFWvzzBzSximki7T2Jsnf0EEARTd_h=s64",
      "userId": "17533833776178224794"
     },
     "user_tz": -60
    },
    "id": "5cZbyB5oMf3Y",
    "outputId": "77bd054d-31bb-4960-894b-0ebafff67b55"
   },
   "outputs": [],
   "source": [
    "show_res_with_text_labels(bm25_retriever, \"1\")"
   ]
  },
  {
   "cell_type": "markdown",
   "metadata": {
    "id": "4fq5kVT_QUQJ"
   },
   "source": [
    "Judging by the titles of the retrieved documents, BM25 did quite well (NB: For documents with DOIs, you can look up the actual document).\n",
    "\n",
    "Overall, BM25 would have got P@10 = 0.8 for this query. \n",
    "\n",
    "Lets look at ANCE now."
   ]
  },
  {
   "cell_type": "code",
   "execution_count": null,
   "metadata": {
    "colab": {
     "base_uri": "https://localhost:8080/",
     "height": 527,
     "referenced_widgets": [
      "37b4c3ffd5e74a8cbb6f35920cb44996",
      "8fcf6559449542a8917d832bcec9a830",
      "d9e39d1975e64d75908fb528b95ccd0c",
      "28c15bbb80ec4a0dad340166eef9c57c",
      "f0ba7899a3344ffbbdeaf0481fd759c3",
      "a1308cf8ac2d40e2b6d60ee0ea88842e",
      "4c2b45bc71444772a8050a475581e7bc",
      "5151889d10e54eebb8d00dbc34243597"
     ]
    },
    "executionInfo": {
     "elapsed": 1027,
     "status": "ok",
     "timestamp": 1616665847122,
     "user": {
      "displayName": "Nicola Tonellotto",
      "photoUrl": "https://lh3.googleusercontent.com/a-/AOh14Gga8BaxLsPFWvzzBzSximki7T2Jsnf0EEARTd_h=s64",
      "userId": "17533833776178224794"
     },
     "user_tz": -60
    },
    "id": "jUvvdbidN9Gz",
    "outputId": "bc6ee0b7-8a16-428d-f2ef-739fd56be465"
   },
   "outputs": [],
   "source": [
    "show_res_with_text_labels(ance_retriever, \"1\")"
   ]
  },
  {
   "cell_type": "markdown",
   "metadata": {
    "id": "MdRjcgNTQhrN"
   },
   "source": [
    "Here, we see that ANCE has got ranked three documents that had some relevance to the query (titled: \"The first two cases of 2019‐nCoV in Italy: Where they come from\"), however, only the third one (the one with a DOI) was actually judged relevant. Several other of the retrieved documents appear to be non-relevant, e.g. \"General Anesthesia Recommendations for Electroconvulsive Therapy\". "
   ]
  },
  {
   "cell_type": "markdown",
   "metadata": {
    "id": "QmQ_utFaRTgj"
   },
   "source": [
    "## Practice task\n",
    "\n",
    "Try a few other queries in `show_res_with_text_labels()`. Qids are numbered from \"1\" to \"50\". "
   ]
  },
  {
   "cell_type": "code",
   "execution_count": null,
   "metadata": {
    "id": "ZkLC23EcR4Pd"
   },
   "outputs": [],
   "source": [
    "# Write your code here"
   ]
  },
  {
   "cell_type": "markdown",
   "metadata": {
    "id": "QjSKLXSjRtba"
   },
   "source": [
    "#  That's all folks\n",
    "\n",
    "Once you have finished all of the Part 4 notebooks, please dont forget to complete our exit quiz: https://forms.office.com/r/RiYSAxAKhk!"
   ]
  }
 ],
 "metadata": {
  "accelerator": "GPU",
  "colab": {
   "collapsed_sections": [],
   "name": "ECIR 2021 Tutorial Notebook - Part 4.1 (ANCE).ipynb",
   "provenance": [],
   "toc_visible": true
  },
  "kernelspec": {
   "display_name": "Python 3",
   "language": "python",
   "name": "python3"
  },
  "language_info": {
   "codemirror_mode": {
    "name": "ipython",
    "version": 3
   },
   "file_extension": ".py",
   "mimetype": "text/x-python",
   "name": "python",
   "nbconvert_exporter": "python",
   "pygments_lexer": "ipython3",
   "version": "3.8.8"
  },
  "widgets": {
   "application/vnd.jupyter.widget-state+json": {
    "0d9f34a76fcf4631939cbb1ee9277883": {
     "model_module": "@jupyter-widgets/controls",
     "model_name": "ProgressStyleModel",
     "state": {
      "_model_module": "@jupyter-widgets/controls",
      "_model_module_version": "1.5.0",
      "_model_name": "ProgressStyleModel",
      "_view_count": null,
      "_view_module": "@jupyter-widgets/base",
      "_view_module_version": "1.2.0",
      "_view_name": "StyleView",
      "bar_color": null,
      "description_width": "initial"
     }
    },
    "1a116ff705554546b1038c6b2d70c571": {
     "model_module": "@jupyter-widgets/base",
     "model_name": "LayoutModel",
     "state": {
      "_model_module": "@jupyter-widgets/base",
      "_model_module_version": "1.2.0",
      "_model_name": "LayoutModel",
      "_view_count": null,
      "_view_module": "@jupyter-widgets/base",
      "_view_module_version": "1.2.0",
      "_view_name": "LayoutView",
      "align_content": null,
      "align_items": null,
      "align_self": null,
      "border": null,
      "bottom": null,
      "display": null,
      "flex": null,
      "flex_flow": null,
      "grid_area": null,
      "grid_auto_columns": null,
      "grid_auto_flow": null,
      "grid_auto_rows": null,
      "grid_column": null,
      "grid_gap": null,
      "grid_row": null,
      "grid_template_areas": null,
      "grid_template_columns": null,
      "grid_template_rows": null,
      "height": null,
      "justify_content": null,
      "justify_items": null,
      "left": null,
      "margin": null,
      "max_height": null,
      "max_width": null,
      "min_height": null,
      "min_width": null,
      "object_fit": null,
      "object_position": null,
      "order": null,
      "overflow": null,
      "overflow_x": null,
      "overflow_y": null,
      "padding": null,
      "right": null,
      "top": null,
      "visibility": null,
      "width": null
     }
    },
    "28c15bbb80ec4a0dad340166eef9c57c": {
     "model_module": "@jupyter-widgets/controls",
     "model_name": "HTMLModel",
     "state": {
      "_dom_classes": [],
      "_model_module": "@jupyter-widgets/controls",
      "_model_module_version": "1.5.0",
      "_model_name": "HTMLModel",
      "_view_count": null,
      "_view_module": "@jupyter-widgets/controls",
      "_view_module_version": "1.5.0",
      "_view_name": "HTMLView",
      "description": "",
      "description_tooltip": null,
      "layout": "IPY_MODEL_5151889d10e54eebb8d00dbc34243597",
      "placeholder": "​",
      "style": "IPY_MODEL_4c2b45bc71444772a8050a475581e7bc",
      "value": " 1/1 [01:07&lt;00:00, 67.91s/shard]"
     }
    },
    "37b4c3ffd5e74a8cbb6f35920cb44996": {
     "model_module": "@jupyter-widgets/controls",
     "model_name": "HBoxModel",
     "state": {
      "_dom_classes": [],
      "_model_module": "@jupyter-widgets/controls",
      "_model_module_version": "1.5.0",
      "_model_name": "HBoxModel",
      "_view_count": null,
      "_view_module": "@jupyter-widgets/controls",
      "_view_module_version": "1.5.0",
      "_view_name": "HBoxView",
      "box_style": "",
      "children": [
       "IPY_MODEL_d9e39d1975e64d75908fb528b95ccd0c",
       "IPY_MODEL_28c15bbb80ec4a0dad340166eef9c57c"
      ],
      "layout": "IPY_MODEL_8fcf6559449542a8917d832bcec9a830"
     }
    },
    "4ac0709e17094f12b673605235c37b6d": {
     "model_module": "@jupyter-widgets/controls",
     "model_name": "FloatProgressModel",
     "state": {
      "_dom_classes": [],
      "_model_module": "@jupyter-widgets/controls",
      "_model_module_version": "1.5.0",
      "_model_name": "FloatProgressModel",
      "_view_count": null,
      "_view_module": "@jupyter-widgets/controls",
      "_view_module_version": "1.5.0",
      "_view_name": "ProgressView",
      "bar_style": "success",
      "description": "100%",
      "description_tooltip": null,
      "layout": "IPY_MODEL_59e45a5a034b47c491195ca87d85bc00",
      "max": 1,
      "min": 0,
      "orientation": "horizontal",
      "style": "IPY_MODEL_df9463847de94552b343b0dba13895bd",
      "value": 1
     }
    },
    "4c2b45bc71444772a8050a475581e7bc": {
     "model_module": "@jupyter-widgets/controls",
     "model_name": "DescriptionStyleModel",
     "state": {
      "_model_module": "@jupyter-widgets/controls",
      "_model_module_version": "1.5.0",
      "_model_name": "DescriptionStyleModel",
      "_view_count": null,
      "_view_module": "@jupyter-widgets/base",
      "_view_module_version": "1.2.0",
      "_view_name": "StyleView",
      "description_width": ""
     }
    },
    "500ce510cc1d4589989f1e8e561db373": {
     "model_module": "@jupyter-widgets/controls",
     "model_name": "HTMLModel",
     "state": {
      "_dom_classes": [],
      "_model_module": "@jupyter-widgets/controls",
      "_model_module_version": "1.5.0",
      "_model_name": "HTMLModel",
      "_view_count": null,
      "_view_module": "@jupyter-widgets/controls",
      "_view_module_version": "1.5.0",
      "_view_name": "HTMLView",
      "description": "",
      "description_tooltip": null,
      "layout": "IPY_MODEL_1a116ff705554546b1038c6b2d70c571",
      "placeholder": "​",
      "style": "IPY_MODEL_c4934f2b61a443ca9c8f6e9c97c184b8",
      "value": " 1/1 [00:03&lt;00:00,  3.64s/shard]"
     }
    },
    "5151889d10e54eebb8d00dbc34243597": {
     "model_module": "@jupyter-widgets/base",
     "model_name": "LayoutModel",
     "state": {
      "_model_module": "@jupyter-widgets/base",
      "_model_module_version": "1.2.0",
      "_model_name": "LayoutModel",
      "_view_count": null,
      "_view_module": "@jupyter-widgets/base",
      "_view_module_version": "1.2.0",
      "_view_name": "LayoutView",
      "align_content": null,
      "align_items": null,
      "align_self": null,
      "border": null,
      "bottom": null,
      "display": null,
      "flex": null,
      "flex_flow": null,
      "grid_area": null,
      "grid_auto_columns": null,
      "grid_auto_flow": null,
      "grid_auto_rows": null,
      "grid_column": null,
      "grid_gap": null,
      "grid_row": null,
      "grid_template_areas": null,
      "grid_template_columns": null,
      "grid_template_rows": null,
      "height": null,
      "justify_content": null,
      "justify_items": null,
      "left": null,
      "margin": null,
      "max_height": null,
      "max_width": null,
      "min_height": null,
      "min_width": null,
      "object_fit": null,
      "object_position": null,
      "order": null,
      "overflow": null,
      "overflow_x": null,
      "overflow_y": null,
      "padding": null,
      "right": null,
      "top": null,
      "visibility": null,
      "width": null
     }
    },
    "59e45a5a034b47c491195ca87d85bc00": {
     "model_module": "@jupyter-widgets/base",
     "model_name": "LayoutModel",
     "state": {
      "_model_module": "@jupyter-widgets/base",
      "_model_module_version": "1.2.0",
      "_model_name": "LayoutModel",
      "_view_count": null,
      "_view_module": "@jupyter-widgets/base",
      "_view_module_version": "1.2.0",
      "_view_name": "LayoutView",
      "align_content": null,
      "align_items": null,
      "align_self": null,
      "border": null,
      "bottom": null,
      "display": null,
      "flex": null,
      "flex_flow": null,
      "grid_area": null,
      "grid_auto_columns": null,
      "grid_auto_flow": null,
      "grid_auto_rows": null,
      "grid_column": null,
      "grid_gap": null,
      "grid_row": null,
      "grid_template_areas": null,
      "grid_template_columns": null,
      "grid_template_rows": null,
      "height": null,
      "justify_content": null,
      "justify_items": null,
      "left": null,
      "margin": null,
      "max_height": null,
      "max_width": null,
      "min_height": null,
      "min_width": null,
      "object_fit": null,
      "object_position": null,
      "order": null,
      "overflow": null,
      "overflow_x": null,
      "overflow_y": null,
      "padding": null,
      "right": null,
      "top": null,
      "visibility": null,
      "width": null
     }
    },
    "681a6907bd3140c48b032f1e0bba128f": {
     "model_module": "@jupyter-widgets/controls",
     "model_name": "HBoxModel",
     "state": {
      "_dom_classes": [],
      "_model_module": "@jupyter-widgets/controls",
      "_model_module_version": "1.5.0",
      "_model_name": "HBoxModel",
      "_view_count": null,
      "_view_module": "@jupyter-widgets/controls",
      "_view_module_version": "1.5.0",
      "_view_name": "HBoxView",
      "box_style": "",
      "children": [
       "IPY_MODEL_4ac0709e17094f12b673605235c37b6d",
       "IPY_MODEL_f55a1828bbc540d39aff323002180faa"
      ],
      "layout": "IPY_MODEL_7a54db241dcd431d9a3a7a9fd4c74550"
     }
    },
    "7a54db241dcd431d9a3a7a9fd4c74550": {
     "model_module": "@jupyter-widgets/base",
     "model_name": "LayoutModel",
     "state": {
      "_model_module": "@jupyter-widgets/base",
      "_model_module_version": "1.2.0",
      "_model_name": "LayoutModel",
      "_view_count": null,
      "_view_module": "@jupyter-widgets/base",
      "_view_module_version": "1.2.0",
      "_view_name": "LayoutView",
      "align_content": null,
      "align_items": null,
      "align_self": null,
      "border": null,
      "bottom": null,
      "display": null,
      "flex": null,
      "flex_flow": null,
      "grid_area": null,
      "grid_auto_columns": null,
      "grid_auto_flow": null,
      "grid_auto_rows": null,
      "grid_column": null,
      "grid_gap": null,
      "grid_row": null,
      "grid_template_areas": null,
      "grid_template_columns": null,
      "grid_template_rows": null,
      "height": null,
      "justify_content": null,
      "justify_items": null,
      "left": null,
      "margin": null,
      "max_height": null,
      "max_width": null,
      "min_height": null,
      "min_width": null,
      "object_fit": null,
      "object_position": null,
      "order": null,
      "overflow": null,
      "overflow_x": null,
      "overflow_y": null,
      "padding": null,
      "right": null,
      "top": null,
      "visibility": null,
      "width": null
     }
    },
    "8fcf6559449542a8917d832bcec9a830": {
     "model_module": "@jupyter-widgets/base",
     "model_name": "LayoutModel",
     "state": {
      "_model_module": "@jupyter-widgets/base",
      "_model_module_version": "1.2.0",
      "_model_name": "LayoutModel",
      "_view_count": null,
      "_view_module": "@jupyter-widgets/base",
      "_view_module_version": "1.2.0",
      "_view_name": "LayoutView",
      "align_content": null,
      "align_items": null,
      "align_self": null,
      "border": null,
      "bottom": null,
      "display": null,
      "flex": null,
      "flex_flow": null,
      "grid_area": null,
      "grid_auto_columns": null,
      "grid_auto_flow": null,
      "grid_auto_rows": null,
      "grid_column": null,
      "grid_gap": null,
      "grid_row": null,
      "grid_template_areas": null,
      "grid_template_columns": null,
      "grid_template_rows": null,
      "height": null,
      "justify_content": null,
      "justify_items": null,
      "left": null,
      "margin": null,
      "max_height": null,
      "max_width": null,
      "min_height": null,
      "min_width": null,
      "object_fit": null,
      "object_position": null,
      "order": null,
      "overflow": null,
      "overflow_x": null,
      "overflow_y": null,
      "padding": null,
      "right": null,
      "top": null,
      "visibility": null,
      "width": null
     }
    },
    "99ba0180abf94931bee30b2fd254ab45": {
     "model_module": "@jupyter-widgets/base",
     "model_name": "LayoutModel",
     "state": {
      "_model_module": "@jupyter-widgets/base",
      "_model_module_version": "1.2.0",
      "_model_name": "LayoutModel",
      "_view_count": null,
      "_view_module": "@jupyter-widgets/base",
      "_view_module_version": "1.2.0",
      "_view_name": "LayoutView",
      "align_content": null,
      "align_items": null,
      "align_self": null,
      "border": null,
      "bottom": null,
      "display": null,
      "flex": null,
      "flex_flow": null,
      "grid_area": null,
      "grid_auto_columns": null,
      "grid_auto_flow": null,
      "grid_auto_rows": null,
      "grid_column": null,
      "grid_gap": null,
      "grid_row": null,
      "grid_template_areas": null,
      "grid_template_columns": null,
      "grid_template_rows": null,
      "height": null,
      "justify_content": null,
      "justify_items": null,
      "left": null,
      "margin": null,
      "max_height": null,
      "max_width": null,
      "min_height": null,
      "min_width": null,
      "object_fit": null,
      "object_position": null,
      "order": null,
      "overflow": null,
      "overflow_x": null,
      "overflow_y": null,
      "padding": null,
      "right": null,
      "top": null,
      "visibility": null,
      "width": null
     }
    },
    "a1308cf8ac2d40e2b6d60ee0ea88842e": {
     "model_module": "@jupyter-widgets/base",
     "model_name": "LayoutModel",
     "state": {
      "_model_module": "@jupyter-widgets/base",
      "_model_module_version": "1.2.0",
      "_model_name": "LayoutModel",
      "_view_count": null,
      "_view_module": "@jupyter-widgets/base",
      "_view_module_version": "1.2.0",
      "_view_name": "LayoutView",
      "align_content": null,
      "align_items": null,
      "align_self": null,
      "border": null,
      "bottom": null,
      "display": null,
      "flex": null,
      "flex_flow": null,
      "grid_area": null,
      "grid_auto_columns": null,
      "grid_auto_flow": null,
      "grid_auto_rows": null,
      "grid_column": null,
      "grid_gap": null,
      "grid_row": null,
      "grid_template_areas": null,
      "grid_template_columns": null,
      "grid_template_rows": null,
      "height": null,
      "justify_content": null,
      "justify_items": null,
      "left": null,
      "margin": null,
      "max_height": null,
      "max_width": null,
      "min_height": null,
      "min_width": null,
      "object_fit": null,
      "object_position": null,
      "order": null,
      "overflow": null,
      "overflow_x": null,
      "overflow_y": null,
      "padding": null,
      "right": null,
      "top": null,
      "visibility": null,
      "width": null
     }
    },
    "a4f19316dcf94ab9ab3cf8046a822e35": {
     "model_module": "@jupyter-widgets/base",
     "model_name": "LayoutModel",
     "state": {
      "_model_module": "@jupyter-widgets/base",
      "_model_module_version": "1.2.0",
      "_model_name": "LayoutModel",
      "_view_count": null,
      "_view_module": "@jupyter-widgets/base",
      "_view_module_version": "1.2.0",
      "_view_name": "LayoutView",
      "align_content": null,
      "align_items": null,
      "align_self": null,
      "border": null,
      "bottom": null,
      "display": null,
      "flex": null,
      "flex_flow": null,
      "grid_area": null,
      "grid_auto_columns": null,
      "grid_auto_flow": null,
      "grid_auto_rows": null,
      "grid_column": null,
      "grid_gap": null,
      "grid_row": null,
      "grid_template_areas": null,
      "grid_template_columns": null,
      "grid_template_rows": null,
      "height": null,
      "justify_content": null,
      "justify_items": null,
      "left": null,
      "margin": null,
      "max_height": null,
      "max_width": null,
      "min_height": null,
      "min_width": null,
      "object_fit": null,
      "object_position": null,
      "order": null,
      "overflow": null,
      "overflow_x": null,
      "overflow_y": null,
      "padding": null,
      "right": null,
      "top": null,
      "visibility": null,
      "width": null
     }
    },
    "a726ad4ac0394d548b20f7933f638073": {
     "model_module": "@jupyter-widgets/controls",
     "model_name": "HBoxModel",
     "state": {
      "_dom_classes": [],
      "_model_module": "@jupyter-widgets/controls",
      "_model_module_version": "1.5.0",
      "_model_name": "HBoxModel",
      "_view_count": null,
      "_view_module": "@jupyter-widgets/controls",
      "_view_module_version": "1.5.0",
      "_view_name": "HBoxView",
      "box_style": "",
      "children": [
       "IPY_MODEL_b30a90f31f5940aaaad9a6b39ade7945",
       "IPY_MODEL_500ce510cc1d4589989f1e8e561db373"
      ],
      "layout": "IPY_MODEL_fe9979c964f44b7ba4bf0da2476c3c14"
     }
    },
    "b30a90f31f5940aaaad9a6b39ade7945": {
     "model_module": "@jupyter-widgets/controls",
     "model_name": "FloatProgressModel",
     "state": {
      "_dom_classes": [],
      "_model_module": "@jupyter-widgets/controls",
      "_model_module_version": "1.5.0",
      "_model_name": "FloatProgressModel",
      "_view_count": null,
      "_view_module": "@jupyter-widgets/controls",
      "_view_module_version": "1.5.0",
      "_view_name": "ProgressView",
      "bar_style": "success",
      "description": "Loading shards: 100%",
      "description_tooltip": null,
      "layout": "IPY_MODEL_a4f19316dcf94ab9ab3cf8046a822e35",
      "max": 1,
      "min": 0,
      "orientation": "horizontal",
      "style": "IPY_MODEL_0d9f34a76fcf4631939cbb1ee9277883",
      "value": 1
     }
    },
    "c4934f2b61a443ca9c8f6e9c97c184b8": {
     "model_module": "@jupyter-widgets/controls",
     "model_name": "DescriptionStyleModel",
     "state": {
      "_model_module": "@jupyter-widgets/controls",
      "_model_module_version": "1.5.0",
      "_model_name": "DescriptionStyleModel",
      "_view_count": null,
      "_view_module": "@jupyter-widgets/base",
      "_view_module_version": "1.2.0",
      "_view_name": "StyleView",
      "description_width": ""
     }
    },
    "d875c04a4a654169a98dcf505f03b0d6": {
     "model_module": "@jupyter-widgets/controls",
     "model_name": "DescriptionStyleModel",
     "state": {
      "_model_module": "@jupyter-widgets/controls",
      "_model_module_version": "1.5.0",
      "_model_name": "DescriptionStyleModel",
      "_view_count": null,
      "_view_module": "@jupyter-widgets/base",
      "_view_module_version": "1.2.0",
      "_view_name": "StyleView",
      "description_width": ""
     }
    },
    "d9e39d1975e64d75908fb528b95ccd0c": {
     "model_module": "@jupyter-widgets/controls",
     "model_name": "FloatProgressModel",
     "state": {
      "_dom_classes": [],
      "_model_module": "@jupyter-widgets/controls",
      "_model_module_version": "1.5.0",
      "_model_name": "FloatProgressModel",
      "_view_count": null,
      "_view_module": "@jupyter-widgets/controls",
      "_view_module_version": "1.5.0",
      "_view_name": "ProgressView",
      "bar_style": "success",
      "description": "100%",
      "description_tooltip": null,
      "layout": "IPY_MODEL_a1308cf8ac2d40e2b6d60ee0ea88842e",
      "max": 1,
      "min": 0,
      "orientation": "horizontal",
      "style": "IPY_MODEL_f0ba7899a3344ffbbdeaf0481fd759c3",
      "value": 1
     }
    },
    "df9463847de94552b343b0dba13895bd": {
     "model_module": "@jupyter-widgets/controls",
     "model_name": "ProgressStyleModel",
     "state": {
      "_model_module": "@jupyter-widgets/controls",
      "_model_module_version": "1.5.0",
      "_model_name": "ProgressStyleModel",
      "_view_count": null,
      "_view_module": "@jupyter-widgets/base",
      "_view_module_version": "1.2.0",
      "_view_name": "StyleView",
      "bar_color": null,
      "description_width": "initial"
     }
    },
    "f0ba7899a3344ffbbdeaf0481fd759c3": {
     "model_module": "@jupyter-widgets/controls",
     "model_name": "ProgressStyleModel",
     "state": {
      "_model_module": "@jupyter-widgets/controls",
      "_model_module_version": "1.5.0",
      "_model_name": "ProgressStyleModel",
      "_view_count": null,
      "_view_module": "@jupyter-widgets/base",
      "_view_module_version": "1.2.0",
      "_view_name": "StyleView",
      "bar_color": null,
      "description_width": "initial"
     }
    },
    "f55a1828bbc540d39aff323002180faa": {
     "model_module": "@jupyter-widgets/controls",
     "model_name": "HTMLModel",
     "state": {
      "_dom_classes": [],
      "_model_module": "@jupyter-widgets/controls",
      "_model_module_version": "1.5.0",
      "_model_name": "HTMLModel",
      "_view_count": null,
      "_view_module": "@jupyter-widgets/controls",
      "_view_module_version": "1.5.0",
      "_view_name": "HTMLView",
      "description": "",
      "description_tooltip": null,
      "layout": "IPY_MODEL_99ba0180abf94931bee30b2fd254ab45",
      "placeholder": "​",
      "style": "IPY_MODEL_d875c04a4a654169a98dcf505f03b0d6",
      "value": " 1/1 [01:30&lt;00:00, 90.35s/shard]"
     }
    },
    "fe9979c964f44b7ba4bf0da2476c3c14": {
     "model_module": "@jupyter-widgets/base",
     "model_name": "LayoutModel",
     "state": {
      "_model_module": "@jupyter-widgets/base",
      "_model_module_version": "1.2.0",
      "_model_name": "LayoutModel",
      "_view_count": null,
      "_view_module": "@jupyter-widgets/base",
      "_view_module_version": "1.2.0",
      "_view_name": "LayoutView",
      "align_content": null,
      "align_items": null,
      "align_self": null,
      "border": null,
      "bottom": null,
      "display": null,
      "flex": null,
      "flex_flow": null,
      "grid_area": null,
      "grid_auto_columns": null,
      "grid_auto_flow": null,
      "grid_auto_rows": null,
      "grid_column": null,
      "grid_gap": null,
      "grid_row": null,
      "grid_template_areas": null,
      "grid_template_columns": null,
      "grid_template_rows": null,
      "height": null,
      "justify_content": null,
      "justify_items": null,
      "left": null,
      "margin": null,
      "max_height": null,
      "max_width": null,
      "min_height": null,
      "min_width": null,
      "object_fit": null,
      "object_position": null,
      "order": null,
      "overflow": null,
      "overflow_x": null,
      "overflow_y": null,
      "padding": null,
      "right": null,
      "top": null,
      "visibility": null,
      "width": null
     }
    }
   }
  }
 },
 "nbformat": 4,
 "nbformat_minor": 1
}
